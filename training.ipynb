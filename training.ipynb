{
 "cells": [
  {
   "cell_type": "code",
   "execution_count": 7,
   "id": "822b0ed9",
   "metadata": {},
   "outputs": [
    {
     "name": "stdout",
     "output_type": "stream",
     "text": [
      "Train shape: (928988, 7)\n",
      "Test shape: (9384, 7)\n"
     ]
    }
   ],
   "source": [
    "import pandas as pd\n",
    "from sklearn.model_selection import train_test_split\n",
    "\n",
    "# Load your data\n",
    "data = pd.read_csv('data_clean.csv')\n",
    "\n",
    "# Let's assume you want an 80-20 train-test split\n",
    "train_data, test_data = train_test_split(data, test_size=0.01, shuffle=False)\n",
    "\n",
    "# Save them if you want\n",
    "train_data.to_csv('train.csv', index=False)\n",
    "test_data.to_csv('test.csv', index=False)\n",
    "\n",
    "print(f\"Train shape: {train_data.shape}\")\n",
    "print(f\"Test shape: {test_data.shape}\")"
   ]
  },
  {
   "cell_type": "markdown",
   "id": "6ad023fc",
   "metadata": {},
   "source": [
    "## ARIMA model"
   ]
  },
  {
   "cell_type": "code",
   "execution_count": null,
   "id": "b8e8fe5b",
   "metadata": {},
   "outputs": [],
   "source": [
    "from sklearn.metrics import mean_squared_error, root_mean_squared_error, r2_score\n",
    "from statsmodels.tsa.arima.model import ARIMA, ARIMAResults\n",
    "import numpy as np\n",
    "import pandas as pd\n",
    "from tqdm import tqdm\n",
    "\n",
    "\n",
    "def train_model(\n",
    "    model: ARIMA,\n",
    "    train_data: pd.DataFrame,\n",
    "    order: tuple\n",
    ") -> ARIMAResults:\n",
    "    model = model(train_data, order=order)\n",
    "    model_fit = model.fit()\n",
    "    return model_fit\n",
    "\n",
    "\n",
    "def evaluate_model(\n",
    "    train_data: pd.DataFrame,\n",
    "    test_data: pd.DataFrame,\n",
    "    model: ARIMA,\n",
    "    minutes: int = 4 * 60,\n",
    "    order: tuple | None = None\n",
    ") -> None:\n",
    "    mses = []\n",
    "    rmses = []\n",
    "    r2s = []\n",
    "\n",
    "    num_batch = len(test_data) // minutes - 1\n",
    "    \n",
    "    print(\"Training initial model...\")\n",
    "    model_fit = train_model(model, train_data, order)\n",
    "    print(\"Trainig ended.\")\n",
    "    \n",
    "    train_tqdm = tqdm(range(num_batch), total=num_batch)\n",
    "\n",
    "    for batch in train_tqdm:\n",
    "        \n",
    "        forecast = model_fit.forecast(steps=minutes)\n",
    "        \n",
    "        y_true = test_data.iloc[batch * minutes : (batch + 1) * minutes]\n",
    "\n",
    "        mse = mean_squared_error(y_true, forecast)\n",
    "        rmse = root_mean_squared_error(y_true, forecast)\n",
    "        r2 = r2_score(y_true, forecast)\n",
    "        \n",
    "        mses.append(mse)\n",
    "        rmses.append(rmse)\n",
    "        r2s.append(r2)\n",
    "        \n",
    "        model_fit = model_fit.append(test_data.iloc[batch * minutes : (batch + 1) * minutes], refit=False)\n",
    "        \n",
    "        train_tqdm.set_description(\n",
    "            f\"MSE: {np.mean(mses):0.3f}, RMSE: {np.mean(rmses):0.3f}, R2: {np.mean(r2s):0.3f}\"\n",
    "        )\n"
   ]
  },
  {
   "cell_type": "code",
   "execution_count": 9,
   "id": "8e696471",
   "metadata": {},
   "outputs": [
    {
     "name": "stdout",
     "output_type": "stream",
     "text": [
      "Training initial model...\n",
      "Trainig ended.\n"
     ]
    },
    {
     "name": "stderr",
     "output_type": "stream",
     "text": [
      "MSE: 0.960, RMSE: 0.752, R2: -1.998: 100%|██████████| 38/38 [00:31<00:00,  1.20it/s]\n"
     ]
    }
   ],
   "source": [
    "train_data = pd.read_csv('train.csv', parse_dates=[\"Date\"], index_col=0)[\"2013-01-01 00:00:00\":]\n",
    "train_data = train_data.asfreq(pd.infer_freq(train_data.index))\n",
    "\n",
    "test_data = pd.read_csv('test.csv', parse_dates=[\"Date\"], index_col=0)\n",
    "test_data = test_data.asfreq(pd.infer_freq(test_data.index))\n",
    "\n",
    "time_series = 2\n",
    "\n",
    "evaluate_model(\n",
    "    train_data=train_data.iloc[:, time_series],\n",
    "    test_data=test_data.iloc[:, time_series],\n",
    "    model=ARIMA,\n",
    "    order=(2, 0, 2)\n",
    ")"
   ]
  },
  {
   "cell_type": "markdown",
   "id": "f3e87b2a",
   "metadata": {},
   "source": [
    "# VAR model"
   ]
  },
  {
   "cell_type": "code",
   "execution_count": null,
   "id": "b102ad73",
   "metadata": {},
   "outputs": [],
   "source": []
  }
 ],
 "metadata": {
  "kernelspec": {
   "display_name": "py312",
   "language": "python",
   "name": "python3"
  },
  "language_info": {
   "codemirror_mode": {
    "name": "ipython",
    "version": 3
   },
   "file_extension": ".py",
   "mimetype": "text/x-python",
   "name": "python",
   "nbconvert_exporter": "python",
   "pygments_lexer": "ipython3",
   "version": "3.12.9"
  }
 },
 "nbformat": 4,
 "nbformat_minor": 5
}
